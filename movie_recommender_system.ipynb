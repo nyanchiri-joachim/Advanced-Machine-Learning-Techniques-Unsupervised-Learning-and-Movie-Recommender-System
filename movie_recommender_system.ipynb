{
 "cells": [
  {
   "cell_type": "markdown",
   "metadata": {},
   "source": [
    "# MovieLens Recommender System"
   ]
  },
  {
   "cell_type": "code",
   "execution_count": 2,
   "metadata": {
    "execution": {
     "iopub.execute_input": "2024-06-16T17:57:44.285108Z",
     "iopub.status.busy": "2024-06-16T17:57:44.284564Z",
     "iopub.status.idle": "2024-06-16T17:57:45.469308Z",
     "shell.execute_reply": "2024-06-16T17:57:45.467841Z",
     "shell.execute_reply.started": "2024-06-16T17:57:44.285066Z"
    }
   },
   "outputs": [],
   "source": [
    "# This Python 3 environment comes with many helpful analytics libraries installed\n",
    "# It is defined by the kaggle/python Docker image: https://github.com/kaggle/docker-python\n",
    "# For example, here's several helpful packages to load\n",
    "\n",
    "import numpy as np # linear algebra\n",
    "import pandas as pd # data processing, CSV file I/O (e.g. pd.read_csv)\n",
    "\n",
    "# Input data files are available in the read-only \"../input/\" directory\n",
    "# For example, running this (by clicking run or pressing Shift+Enter) will list all files under the input directory\n",
    "\n",
    "import os\n",
    "for dirname, _, filenames in os.walk('/kaggle/input'):\n",
    "    for filename in filenames:\n",
    "        print(os.path.join(dirname, filename))\n",
    "\n",
    "# You can write up to 20GB to the current directory (/kaggle/working/) that gets preserved as output when you create a version using \"Save & Run All\" \n",
    "# You can also write temporary files to /kaggle/temp/, but they won't be saved outside of the current session"
   ]
  },
  {
   "cell_type": "code",
   "execution_count": 3,
   "metadata": {
    "execution": {
     "iopub.execute_input": "2024-06-16T17:57:48.341895Z",
     "iopub.status.busy": "2024-06-16T17:57:48.341328Z",
     "iopub.status.idle": "2024-06-16T17:57:49.564139Z",
     "shell.execute_reply": "2024-06-16T17:57:49.563002Z",
     "shell.execute_reply.started": "2024-06-16T17:57:48.341863Z"
    }
   },
   "outputs": [],
   "source": [
    "import numpy as np\n",
    "import pandas as pd\n",
    "import matplotlib.pyplot as plt\n",
    "import seaborn as sns"
   ]
  },
  {
   "cell_type": "code",
   "execution_count": 10,
   "metadata": {
    "execution": {
     "iopub.execute_input": "2024-06-16T17:57:54.661668Z",
     "iopub.status.busy": "2024-06-16T17:57:54.661179Z",
     "iopub.status.idle": "2024-06-16T17:58:02.381533Z",
     "shell.execute_reply": "2024-06-16T17:58:02.380239Z",
     "shell.execute_reply.started": "2024-06-16T17:57:54.661635Z"
    }
   },
   "outputs": [],
   "source": [
    "ratings = pd.read_csv('train1.csv')\n",
    "movies = pd.read_csv('movies.csv')\n",
    "test = pd.read_csv('test.csv')"
   ]
  },
  {
   "cell_type": "code",
   "execution_count": 14,
   "metadata": {
    "execution": {
     "iopub.execute_input": "2024-06-16T17:58:09.031444Z",
     "iopub.status.busy": "2024-06-16T17:58:09.030984Z",
     "iopub.status.idle": "2024-06-16T17:58:09.288841Z",
     "shell.execute_reply": "2024-06-16T17:58:09.287734Z",
     "shell.execute_reply.started": "2024-06-16T17:58:09.031406Z"
    }
   },
   "outputs": [
    {
     "name": "stdout",
     "output_type": "stream",
     "text": [
      "Number of ratings: 10000038\n",
      "Number of unique movieId's: 48213\n",
      "Number of unique users: 162541\n",
      "Average number of ratings per user: 61.52\n",
      "Average number of ratings per movie: 207.41\n"
     ]
    }
   ],
   "source": [
    "n_ratings = len(ratings)\n",
    "n_movies = ratings['movieId'].nunique()\n",
    "n_users = ratings['userId'].nunique()\n",
    "\n",
    "print(f\"Number of ratings: {n_ratings}\")\n",
    "print(f\"Number of unique movieId's: {n_movies}\")\n",
    "print(f\"Number of unique users: {n_users}\")\n",
    "print(f\"Average number of ratings per user: {round(n_ratings/n_users, 2)}\")\n",
    "print(f\"Average number of ratings per movie: {round(n_ratings/n_movies, 2)}\")"
   ]
  },
  {
   "cell_type": "markdown",
   "metadata": {},
   "source": [
    "### What is the distribution of movie ratings?"
   ]
  },
  {
   "cell_type": "code",
   "execution_count": 15,
   "metadata": {
    "execution": {
     "iopub.execute_input": "2024-06-16T17:58:09.780661Z",
     "iopub.status.busy": "2024-06-16T17:58:09.779618Z",
     "iopub.status.idle": "2024-06-16T17:58:11.265151Z",
     "shell.execute_reply": "2024-06-16T17:58:11.263949Z",
     "shell.execute_reply.started": "2024-06-16T17:58:09.780621Z"
    }
   },
   "outputs": [
    {
     "data": {
      "image/png": "[encoded data removed]",
      "text/plain": [
       "<Figure size 640x480 with 1 Axes>"
      ]
     },
     "metadata": {},
     "output_type": "display_data"
    }
   ],
   "source": [
    "sns.countplot(x=\"rating\", data=ratings, palette=\"viridis\")\n",
    "plt.title(\"Distribution of movie ratings\", fontsize=14)\n",
    "plt.show()"
   ]
  },
  {
   "cell_type": "code",
   "execution_count": 16,
   "metadata": {
    "execution": {
     "iopub.execute_input": "2024-06-16T17:58:12.761322Z",
     "iopub.status.busy": "2024-06-16T17:58:12.760744Z",
     "iopub.status.idle": "2024-06-16T17:58:13.316663Z",
     "shell.execute_reply": "2024-06-16T17:58:13.315336Z",
     "shell.execute_reply.started": "2024-06-16T17:58:12.761282Z"
    }
   },
   "outputs": [
    {
     "name": "stdout",
     "output_type": "stream",
     "text": [
      "Mean global rating: 3.53.\n",
      "Mean rating per user: 3.68.\n"
     ]
    }
   ],
   "source": [
    "print(f\"Mean global rating: {round(ratings['rating'].mean(),2)}.\")\n",
    "\n",
    "mean_ratings = ratings.groupby('userId')['rating'].mean()\n",
    "print(f\"Mean rating per user: {round(mean_ratings.mean(),2)}.\")"
   ]
  },
  {
   "cell_type": "markdown",
   "metadata": {},
   "source": [
    "### Which movies are most frequently rated?"
   ]
  },
  {
   "cell_type": "code",
   "execution_count": 17,
   "metadata": {
    "execution": {
     "iopub.execute_input": "2024-06-16T17:58:13.461397Z",
     "iopub.status.busy": "2024-06-16T17:58:13.460903Z",
     "iopub.status.idle": "2024-06-16T17:58:16.782550Z",
     "shell.execute_reply": "2024-06-16T17:58:16.781321Z",
     "shell.execute_reply.started": "2024-06-16T17:58:13.461324Z"
    }
   },
   "outputs": [
    {
     "data": {
      "text/plain": [
       "title\n",
       "Shawshank Redemption, The (1994)             32831\n",
       "Forrest Gump (1994)                          32383\n",
       "Pulp Fiction (1994)                          31697\n",
       "Silence of the Lambs, The (1991)             29444\n",
       "Matrix, The (1999)                           29014\n",
       "Star Wars: Episode IV - A New Hope (1977)    27560\n",
       "Jurassic Park (1993)                         25518\n",
       "Schindler's List (1993)                      24004\n",
       "Braveheart (1995)                            23722\n",
       "Fight Club (1999)                            23536\n",
       "Name: count, dtype: int64"
      ]
     },
     "execution_count": 17,
     "metadata": {},
     "output_type": "execute_result"
    }
   ],
   "source": [
    "movie_ratings = ratings.merge(movies, on='movieId')\n",
    "movie_ratings['title'].value_counts()[0:10]"
   ]
  },
  {
   "cell_type": "markdown",
   "metadata": {},
   "source": [
    "### What are the lowest and highest rated movies? "
   ]
  },
  {
   "cell_type": "code",
   "execution_count": 18,
   "metadata": {
    "execution": {
     "iopub.execute_input": "2024-06-16T17:58:16.784660Z",
     "iopub.status.busy": "2024-06-16T17:58:16.784295Z",
     "iopub.status.idle": "2024-06-16T17:58:17.177223Z",
     "shell.execute_reply": "2024-06-16T17:58:17.175959Z",
     "shell.execute_reply.started": "2024-06-16T17:58:16.784622Z"
    }
   },
   "outputs": [
    {
     "data": {
      "text/html": [
       "<div>\n",
       "<style scoped>\n",
       "    .dataframe tbody tr th:only-of-type {\n",
       "        vertical-align: middle;\n",
       "    }\n",
       "\n",
       "    .dataframe tbody tr th {\n",
       "        vertical-align: top;\n",
       "    }\n",
       "\n",
       "    .dataframe thead th {\n",
       "        text-align: right;\n",
       "    }\n",
       "</style>\n",
       "<table border=\"1\" class=\"dataframe\">\n",
       "  <thead>\n",
       "    <tr style=\"text-align: right;\">\n",
       "      <th></th>\n",
       "      <th>movieId</th>\n",
       "      <th>title</th>\n",
       "      <th>genres</th>\n",
       "    </tr>\n",
       "  </thead>\n",
       "  <tbody>\n",
       "    <tr>\n",
       "      <th>5645</th>\n",
       "      <td>5757</td>\n",
       "      <td>History of Kim Skov (Historien om Kim Skov) (1...</td>\n",
       "      <td>Documentary|Drama</td>\n",
       "    </tr>\n",
       "  </tbody>\n",
       "</table>\n",
       "</div>"
      ],
      "text/plain": [
       "      movieId                                              title  \\\n",
       "5645     5757  History of Kim Skov (Historien om Kim Skov) (1...   \n",
       "\n",
       "                 genres  \n",
       "5645  Documentary|Drama  "
      ]
     },
     "execution_count": 18,
     "metadata": {},
     "output_type": "execute_result"
    }
   ],
   "source": [
    "mean_ratings = ratings.groupby('movieId')[['rating']].mean()\n",
    "lowest_rated = mean_ratings['rating'].idxmin()\n",
    "movies[movies['movieId']==lowest_rated]"
   ]
  },
  {
   "cell_type": "code",
   "execution_count": 19,
   "metadata": {
    "execution": {
     "iopub.execute_input": "2024-06-16T17:58:17.966613Z",
     "iopub.status.busy": "2024-06-16T17:58:17.966143Z",
     "iopub.status.idle": "2024-06-16T17:58:17.980596Z",
     "shell.execute_reply": "2024-06-16T17:58:17.979419Z",
     "shell.execute_reply.started": "2024-06-16T17:58:17.966579Z"
    }
   },
   "outputs": [
    {
     "data": {
      "text/html": [
       "<div>\n",
       "<style scoped>\n",
       "    .dataframe tbody tr th:only-of-type {\n",
       "        vertical-align: middle;\n",
       "    }\n",
       "\n",
       "    .dataframe tbody tr th {\n",
       "        vertical-align: top;\n",
       "    }\n",
       "\n",
       "    .dataframe thead th {\n",
       "        text-align: right;\n",
       "    }\n",
       "</style>\n",
       "<table border=\"1\" class=\"dataframe\">\n",
       "  <thead>\n",
       "    <tr style=\"text-align: right;\">\n",
       "      <th></th>\n",
       "      <th>movieId</th>\n",
       "      <th>title</th>\n",
       "      <th>genres</th>\n",
       "    </tr>\n",
       "  </thead>\n",
       "  <tbody>\n",
       "    <tr>\n",
       "      <th>3141</th>\n",
       "      <td>3234</td>\n",
       "      <td>Train Ride to Hollywood (1975)</td>\n",
       "      <td>Comedy|Fantasy|Musical</td>\n",
       "    </tr>\n",
       "  </tbody>\n",
       "</table>\n",
       "</div>"
      ],
      "text/plain": [
       "      movieId                           title                  genres\n",
       "3141     3234  Train Ride to Hollywood (1975)  Comedy|Fantasy|Musical"
      ]
     },
     "execution_count": 19,
     "metadata": {},
     "output_type": "execute_result"
    }
   ],
   "source": [
    "highest_rated = mean_ratings['rating'].idxmax()\n",
    "movies[movies['movieId'] == highest_rated]"
   ]
  },
  {
   "cell_type": "code",
   "execution_count": 20,
   "metadata": {
    "execution": {
     "iopub.execute_input": "2024-06-16T17:58:18.283710Z",
     "iopub.status.busy": "2024-06-16T17:58:18.283250Z",
     "iopub.status.idle": "2024-06-16T17:58:18.306140Z",
     "shell.execute_reply": "2024-06-16T17:58:18.304904Z",
     "shell.execute_reply.started": "2024-06-16T17:58:18.283674Z"
    }
   },
   "outputs": [
    {
     "data": {
      "text/html": [
       "<div>\n",
       "<style scoped>\n",
       "    .dataframe tbody tr th:only-of-type {\n",
       "        vertical-align: middle;\n",
       "    }\n",
       "\n",
       "    .dataframe tbody tr th {\n",
       "        vertical-align: top;\n",
       "    }\n",
       "\n",
       "    .dataframe thead th {\n",
       "        text-align: right;\n",
       "    }\n",
       "</style>\n",
       "<table border=\"1\" class=\"dataframe\">\n",
       "  <thead>\n",
       "    <tr style=\"text-align: right;\">\n",
       "      <th></th>\n",
       "      <th>userId</th>\n",
       "      <th>movieId</th>\n",
       "      <th>rating</th>\n",
       "      <th>timestamp</th>\n",
       "    </tr>\n",
       "  </thead>\n",
       "  <tbody>\n",
       "    <tr>\n",
       "      <th>3913468</th>\n",
       "      <td>124635</td>\n",
       "      <td>3234</td>\n",
       "      <td>5.0</td>\n",
       "      <td>1047315411</td>\n",
       "    </tr>\n",
       "  </tbody>\n",
       "</table>\n",
       "</div>"
      ],
      "text/plain": [
       "         userId  movieId  rating   timestamp\n",
       "3913468  124635     3234     5.0  1047315411"
      ]
     },
     "execution_count": 20,
     "metadata": {},
     "output_type": "execute_result"
    }
   ],
   "source": [
    "ratings[ratings['movieId']==highest_rated]"
   ]
  },
  {
   "cell_type": "markdown",
   "metadata": {},
   "source": [
    "`Lamerica` may be the \"highest\" rated movie, but it only has 2 ratings. A better approach for evaluating movie popularity is to do look at the [Bayesian average](https://en.wikipedia.org/wiki/Bayesian_average)."
   ]
  },
  {
   "cell_type": "markdown",
   "metadata": {},
   "source": [
    "#### Bayesian Average"
   ]
  },
  {
   "cell_type": "code",
   "execution_count": 21,
   "metadata": {
    "execution": {
     "iopub.execute_input": "2024-06-16T17:58:22.123950Z",
     "iopub.status.busy": "2024-06-16T17:58:22.123106Z",
     "iopub.status.idle": "2024-06-16T17:58:22.605684Z",
     "shell.execute_reply": "2024-06-16T17:58:22.604505Z",
     "shell.execute_reply.started": "2024-06-16T17:58:22.123908Z"
    }
   },
   "outputs": [
    {
     "data": {
      "text/html": [
       "<div>\n",
       "<style scoped>\n",
       "    .dataframe tbody tr th:only-of-type {\n",
       "        vertical-align: middle;\n",
       "    }\n",
       "\n",
       "    .dataframe tbody tr th {\n",
       "        vertical-align: top;\n",
       "    }\n",
       "\n",
       "    .dataframe thead th {\n",
       "        text-align: right;\n",
       "    }\n",
       "</style>\n",
       "<table border=\"1\" class=\"dataframe\">\n",
       "  <thead>\n",
       "    <tr style=\"text-align: right;\">\n",
       "      <th></th>\n",
       "      <th>count</th>\n",
       "      <th>mean</th>\n",
       "    </tr>\n",
       "    <tr>\n",
       "      <th>movieId</th>\n",
       "      <th></th>\n",
       "      <th></th>\n",
       "    </tr>\n",
       "  </thead>\n",
       "  <tbody>\n",
       "    <tr>\n",
       "      <th>1</th>\n",
       "      <td>23062</td>\n",
       "      <td>3.889971</td>\n",
       "    </tr>\n",
       "    <tr>\n",
       "      <th>2</th>\n",
       "      <td>9654</td>\n",
       "      <td>3.263414</td>\n",
       "    </tr>\n",
       "    <tr>\n",
       "      <th>3</th>\n",
       "      <td>4727</td>\n",
       "      <td>3.132325</td>\n",
       "    </tr>\n",
       "    <tr>\n",
       "      <th>4</th>\n",
       "      <td>968</td>\n",
       "      <td>2.878099</td>\n",
       "    </tr>\n",
       "    <tr>\n",
       "      <th>5</th>\n",
       "      <td>4648</td>\n",
       "      <td>3.059165</td>\n",
       "    </tr>\n",
       "  </tbody>\n",
       "</table>\n",
       "</div>"
      ],
      "text/plain": [
       "         count      mean\n",
       "movieId                 \n",
       "1        23062  3.889971\n",
       "2         9654  3.263414\n",
       "3         4727  3.132325\n",
       "4          968  2.878099\n",
       "5         4648  3.059165"
      ]
     },
     "execution_count": 21,
     "metadata": {},
     "output_type": "execute_result"
    }
   ],
   "source": [
    "movie_stats = ratings.groupby('movieId')['rating'].agg(['count', 'mean'])\n",
    "movie_stats.head()"
   ]
  },
  {
   "cell_type": "code",
   "execution_count": 22,
   "metadata": {
    "execution": {
     "iopub.execute_input": "2024-06-16T17:58:22.608436Z",
     "iopub.status.busy": "2024-06-16T17:58:22.607962Z",
     "iopub.status.idle": "2024-06-16T17:58:22.618194Z",
     "shell.execute_reply": "2024-06-16T17:58:22.616867Z",
     "shell.execute_reply.started": "2024-06-16T17:58:22.608393Z"
    }
   },
   "outputs": [
    {
     "name": "stdout",
     "output_type": "stream",
     "text": [
      "Average number of ratings for a given movie: 207.41\n",
      "Average rating for a given movie: 3.10\n"
     ]
    }
   ],
   "source": [
    "C = movie_stats['count'].mean()\n",
    "m = movie_stats['mean'].mean()\n",
    "\n",
    "print(f\"Average number of ratings for a given movie: {C:.2f}\")\n",
    "print(f\"Average rating for a given movie: {m:.2f}\")\n",
    "\n",
    "def bayesian_avg(ratings):\n",
    "    bayesian_avg = (C*m+ratings.sum())/(C+ratings.count())\n",
    "    return round(bayesian_avg, 3)"
   ]
  },
  {
   "cell_type": "markdown",
   "metadata": {},
   "source": [
    "Let's test our `bayesian_avg` function out on `Lamerica`:"
   ]
  },
  {
   "cell_type": "code",
   "execution_count": 23,
   "metadata": {
    "execution": {
     "iopub.execute_input": "2024-06-16T17:58:23.282610Z",
     "iopub.status.busy": "2024-06-16T17:58:23.282164Z",
     "iopub.status.idle": "2024-06-16T17:58:23.290982Z",
     "shell.execute_reply": "2024-06-16T17:58:23.289749Z",
     "shell.execute_reply.started": "2024-06-16T17:58:23.282579Z"
    }
   },
   "outputs": [
    {
     "data": {
      "text/plain": [
       "3.118"
      ]
     },
     "execution_count": 23,
     "metadata": {},
     "output_type": "execute_result"
    }
   ],
   "source": [
    "lamerica = pd.Series([5, 5])\n",
    "bayesian_avg(lamerica)"
   ]
  },
  {
   "cell_type": "markdown",
   "metadata": {},
   "source": [
    "`Lamerica`'s average Bayesian rating is 3.5. \n",
    "\n",
    "Let's now apply `bayesian_avg` to all movies in our dataset."
   ]
  },
  {
   "cell_type": "code",
   "execution_count": 24,
   "metadata": {
    "execution": {
     "iopub.execute_input": "2024-06-16T17:58:25.422568Z",
     "iopub.status.busy": "2024-06-16T17:58:25.422142Z",
     "iopub.status.idle": "2024-06-16T17:58:30.423530Z",
     "shell.execute_reply": "2024-06-16T17:58:30.422489Z",
     "shell.execute_reply.started": "2024-06-16T17:58:25.422535Z"
    }
   },
   "outputs": [],
   "source": [
    "bayesian_avg_ratings = ratings.groupby('movieId')['rating'].agg(bayesian_avg).reset_index()\n",
    "bayesian_avg_ratings.columns = ['movieId', 'bayesian_avg']\n",
    "movie_stats = movie_stats.merge(bayesian_avg_ratings, on='movieId')"
   ]
  },
  {
   "cell_type": "code",
   "execution_count": 25,
   "metadata": {
    "execution": {
     "iopub.execute_input": "2024-06-16T17:58:30.426181Z",
     "iopub.status.busy": "2024-06-16T17:58:30.425710Z",
     "iopub.status.idle": "2024-06-16T17:58:30.463939Z",
     "shell.execute_reply": "2024-06-16T17:58:30.462779Z",
     "shell.execute_reply.started": "2024-06-16T17:58:30.426140Z"
    }
   },
   "outputs": [
    {
     "data": {
      "text/html": [
       "<div>\n",
       "<style scoped>\n",
       "    .dataframe tbody tr th:only-of-type {\n",
       "        vertical-align: middle;\n",
       "    }\n",
       "\n",
       "    .dataframe tbody tr th {\n",
       "        vertical-align: top;\n",
       "    }\n",
       "\n",
       "    .dataframe thead th {\n",
       "        text-align: right;\n",
       "    }\n",
       "</style>\n",
       "<table border=\"1\" class=\"dataframe\">\n",
       "  <thead>\n",
       "    <tr style=\"text-align: right;\">\n",
       "      <th></th>\n",
       "      <th>movieId</th>\n",
       "      <th>count</th>\n",
       "      <th>mean</th>\n",
       "      <th>bayesian_avg</th>\n",
       "      <th>title</th>\n",
       "    </tr>\n",
       "  </thead>\n",
       "  <tbody>\n",
       "    <tr>\n",
       "      <th>314</th>\n",
       "      <td>318</td>\n",
       "      <td>32831</td>\n",
       "      <td>4.417624</td>\n",
       "      <td>4.409</td>\n",
       "      <td>Shawshank Redemption, The (1994)</td>\n",
       "    </tr>\n",
       "    <tr>\n",
       "      <th>840</th>\n",
       "      <td>858</td>\n",
       "      <td>20960</td>\n",
       "      <td>4.311355</td>\n",
       "      <td>4.299</td>\n",
       "      <td>Godfather, The (1972)</td>\n",
       "    </tr>\n",
       "    <tr>\n",
       "      <th>49</th>\n",
       "      <td>50</td>\n",
       "      <td>22032</td>\n",
       "      <td>4.278073</td>\n",
       "      <td>4.267</td>\n",
       "      <td>Usual Suspects, The (1995)</td>\n",
       "    </tr>\n",
       "    <tr>\n",
       "      <th>1190</th>\n",
       "      <td>1221</td>\n",
       "      <td>13525</td>\n",
       "      <td>4.274085</td>\n",
       "      <td>4.256</td>\n",
       "      <td>Godfather: Part II, The (1974)</td>\n",
       "    </tr>\n",
       "    <tr>\n",
       "      <th>522</th>\n",
       "      <td>527</td>\n",
       "      <td>24004</td>\n",
       "      <td>4.247625</td>\n",
       "      <td>4.238</td>\n",
       "      <td>Schindler's List (1993)</td>\n",
       "    </tr>\n",
       "  </tbody>\n",
       "</table>\n",
       "</div>"
      ],
      "text/plain": [
       "      movieId  count      mean  bayesian_avg                             title\n",
       "314       318  32831  4.417624         4.409  Shawshank Redemption, The (1994)\n",
       "840       858  20960  4.311355         4.299             Godfather, The (1972)\n",
       "49         50  22032  4.278073         4.267        Usual Suspects, The (1995)\n",
       "1190     1221  13525  4.274085         4.256    Godfather: Part II, The (1974)\n",
       "522       527  24004  4.247625         4.238           Schindler's List (1993)"
      ]
     },
     "execution_count": 25,
     "metadata": {},
     "output_type": "execute_result"
    }
   ],
   "source": [
    "movie_stats = movie_stats.merge(movies[['movieId', 'title']])\n",
    "movie_stats.sort_values('bayesian_avg', ascending=False).head()"
   ]
  },
  {
   "cell_type": "markdown",
   "metadata": {},
   "source": [
    "Using the Bayesian average, we see that `Shawshank Redemption`, `The Godfather`, and `The Usual Suspects` are the most highly rated movies. This result makes much more sense since these movies are critically acclaimed films."
   ]
  },
  {
   "cell_type": "code",
   "execution_count": 26,
   "metadata": {
    "execution": {
     "iopub.execute_input": "2024-06-16T17:58:32.377449Z",
     "iopub.status.busy": "2024-06-16T17:58:32.376078Z",
     "iopub.status.idle": "2024-06-16T17:58:32.400941Z",
     "shell.execute_reply": "2024-06-16T17:58:32.399857Z",
     "shell.execute_reply.started": "2024-06-16T17:58:32.377400Z"
    }
   },
   "outputs": [
    {
     "data": {
      "text/html": [
       "<div>\n",
       "<style scoped>\n",
       "    .dataframe tbody tr th:only-of-type {\n",
       "        vertical-align: middle;\n",
       "    }\n",
       "\n",
       "    .dataframe tbody tr th {\n",
       "        vertical-align: top;\n",
       "    }\n",
       "\n",
       "    .dataframe thead th {\n",
       "        text-align: right;\n",
       "    }\n",
       "</style>\n",
       "<table border=\"1\" class=\"dataframe\">\n",
       "  <thead>\n",
       "    <tr style=\"text-align: right;\">\n",
       "      <th></th>\n",
       "      <th>movieId</th>\n",
       "      <th>count</th>\n",
       "      <th>mean</th>\n",
       "      <th>bayesian_avg</th>\n",
       "      <th>title</th>\n",
       "    </tr>\n",
       "  </thead>\n",
       "  <tbody>\n",
       "    <tr>\n",
       "      <th>3493</th>\n",
       "      <td>3593</td>\n",
       "      <td>1708</td>\n",
       "      <td>1.576405</td>\n",
       "      <td>1.741</td>\n",
       "      <td>Battlefield Earth (2000)</td>\n",
       "    </tr>\n",
       "    <tr>\n",
       "      <th>11310</th>\n",
       "      <td>50798</td>\n",
       "      <td>483</td>\n",
       "      <td>1.467909</td>\n",
       "      <td>1.958</td>\n",
       "      <td>Epic Movie (2007)</td>\n",
       "    </tr>\n",
       "    <tr>\n",
       "      <th>6457</th>\n",
       "      <td>6587</td>\n",
       "      <td>307</td>\n",
       "      <td>1.200326</td>\n",
       "      <td>1.966</td>\n",
       "      <td>Gigli (2003)</td>\n",
       "    </tr>\n",
       "    <tr>\n",
       "      <th>1688</th>\n",
       "      <td>1760</td>\n",
       "      <td>1036</td>\n",
       "      <td>1.793919</td>\n",
       "      <td>2.012</td>\n",
       "      <td>Spice World (1997)</td>\n",
       "    </tr>\n",
       "    <tr>\n",
       "      <th>1501</th>\n",
       "      <td>1556</td>\n",
       "      <td>2127</td>\n",
       "      <td>1.908087</td>\n",
       "      <td>2.014</td>\n",
       "      <td>Speed 2: Cruise Control (1997)</td>\n",
       "    </tr>\n",
       "  </tbody>\n",
       "</table>\n",
       "</div>"
      ],
      "text/plain": [
       "       movieId  count      mean  bayesian_avg                           title\n",
       "3493      3593   1708  1.576405         1.741        Battlefield Earth (2000)\n",
       "11310    50798    483  1.467909         1.958               Epic Movie (2007)\n",
       "6457      6587    307  1.200326         1.966                    Gigli (2003)\n",
       "1688      1760   1036  1.793919         2.012              Spice World (1997)\n",
       "1501      1556   2127  1.908087         2.014  Speed 2: Cruise Control (1997)"
      ]
     },
     "execution_count": 26,
     "metadata": {},
     "output_type": "execute_result"
    }
   ],
   "source": [
    "movie_stats.sort_values('bayesian_avg', ascending=True).head()"
   ]
  },
  {
   "cell_type": "markdown",
   "metadata": {},
   "source": [
    "With Bayesian averaging, it looks like `Speed 2: Cruise Control`, `Battlefield Earth`, and `Godzilla` are the worst rated movies. `Gypsy` isn't so bad after all."
   ]
  },
  {
   "cell_type": "markdown",
   "metadata": {},
   "source": [
    "### A Glimpse at Movie Genres"
   ]
  },
  {
   "cell_type": "code",
   "execution_count": 27,
   "metadata": {
    "execution": {
     "iopub.execute_input": "2024-06-16T17:58:34.486003Z",
     "iopub.status.busy": "2024-06-16T17:58:34.485470Z",
     "iopub.status.idle": "2024-06-16T17:58:34.654894Z",
     "shell.execute_reply": "2024-06-16T17:58:34.653620Z",
     "shell.execute_reply.started": "2024-06-16T17:58:34.485963Z"
    }
   },
   "outputs": [
    {
     "data": {
      "text/html": [
       "<div>\n",
       "<style scoped>\n",
       "    .dataframe tbody tr th:only-of-type {\n",
       "        vertical-align: middle;\n",
       "    }\n",
       "\n",
       "    .dataframe tbody tr th {\n",
       "        vertical-align: top;\n",
       "    }\n",
       "\n",
       "    .dataframe thead th {\n",
       "        text-align: right;\n",
       "    }\n",
       "</style>\n",
       "<table border=\"1\" class=\"dataframe\">\n",
       "  <thead>\n",
       "    <tr style=\"text-align: right;\">\n",
       "      <th></th>\n",
       "      <th>movieId</th>\n",
       "      <th>title</th>\n",
       "      <th>genres</th>\n",
       "    </tr>\n",
       "  </thead>\n",
       "  <tbody>\n",
       "    <tr>\n",
       "      <th>0</th>\n",
       "      <td>1</td>\n",
       "      <td>Toy Story (1995)</td>\n",
       "      <td>[Adventure, Animation, Children, Comedy, Fantasy]</td>\n",
       "    </tr>\n",
       "    <tr>\n",
       "      <th>1</th>\n",
       "      <td>2</td>\n",
       "      <td>Jumanji (1995)</td>\n",
       "      <td>[Adventure, Children, Fantasy]</td>\n",
       "    </tr>\n",
       "    <tr>\n",
       "      <th>2</th>\n",
       "      <td>3</td>\n",
       "      <td>Grumpier Old Men (1995)</td>\n",
       "      <td>[Comedy, Romance]</td>\n",
       "    </tr>\n",
       "    <tr>\n",
       "      <th>3</th>\n",
       "      <td>4</td>\n",
       "      <td>Waiting to Exhale (1995)</td>\n",
       "      <td>[Comedy, Drama, Romance]</td>\n",
       "    </tr>\n",
       "    <tr>\n",
       "      <th>4</th>\n",
       "      <td>5</td>\n",
       "      <td>Father of the Bride Part II (1995)</td>\n",
       "      <td>[Comedy]</td>\n",
       "    </tr>\n",
       "  </tbody>\n",
       "</table>\n",
       "</div>"
      ],
      "text/plain": [
       "   movieId                               title  \\\n",
       "0        1                    Toy Story (1995)   \n",
       "1        2                      Jumanji (1995)   \n",
       "2        3             Grumpier Old Men (1995)   \n",
       "3        4            Waiting to Exhale (1995)   \n",
       "4        5  Father of the Bride Part II (1995)   \n",
       "\n",
       "                                              genres  \n",
       "0  [Adventure, Animation, Children, Comedy, Fantasy]  \n",
       "1                     [Adventure, Children, Fantasy]  \n",
       "2                                  [Comedy, Romance]  \n",
       "3                           [Comedy, Drama, Romance]  \n",
       "4                                           [Comedy]  "
      ]
     },
     "execution_count": 27,
     "metadata": {},
     "output_type": "execute_result"
    }
   ],
   "source": [
    "movies['genres'] = movies['genres'].apply(lambda x: x.split(\"|\"))\n",
    "movies.head()"
   ]
  },
  {
   "cell_type": "markdown",
   "metadata": {},
   "source": [
    "**How many movie genres are there?**"
   ]
  },
  {
   "cell_type": "code",
   "execution_count": 28,
   "metadata": {
    "execution": {
     "iopub.execute_input": "2024-06-16T17:58:36.909339Z",
     "iopub.status.busy": "2024-06-16T17:58:36.908881Z",
     "iopub.status.idle": "2024-06-16T17:58:36.960532Z",
     "shell.execute_reply": "2024-06-16T17:58:36.959311Z",
     "shell.execute_reply.started": "2024-06-16T17:58:36.909302Z"
    }
   },
   "outputs": [
    {
     "name": "stdout",
     "output_type": "stream",
     "text": [
      "There are 20 genres.\n"
     ]
    },
    {
     "data": {
      "text/plain": [
       "Counter({'Drama': 25606,\n",
       "         'Comedy': 16870,\n",
       "         'Thriller': 8654,\n",
       "         'Romance': 7719,\n",
       "         'Action': 7348,\n",
       "         'Horror': 5989,\n",
       "         'Documentary': 5605,\n",
       "         'Crime': 5319,\n",
       "         '(no genres listed)': 5062,\n",
       "         'Adventure': 4145,\n",
       "         'Sci-Fi': 3595,\n",
       "         'Children': 2935,\n",
       "         'Animation': 2929,\n",
       "         'Mystery': 2925,\n",
       "         'Fantasy': 2731,\n",
       "         'War': 1874,\n",
       "         'Western': 1399,\n",
       "         'Musical': 1054,\n",
       "         'Film-Noir': 353,\n",
       "         'IMAX': 195})"
      ]
     },
     "execution_count": 28,
     "metadata": {},
     "output_type": "execute_result"
    }
   ],
   "source": [
    "from collections import Counter\n",
    "\n",
    "genre_frequency = Counter(g for genres in movies['genres'] for g in genres)\n",
    "\n",
    "print(f\"There are {len(genre_frequency)} genres.\")\n",
    "\n",
    "genre_frequency"
   ]
  },
  {
   "cell_type": "code",
   "execution_count": 29,
   "metadata": {
    "execution": {
     "iopub.execute_input": "2024-06-16T17:58:37.404427Z",
     "iopub.status.busy": "2024-06-16T17:58:37.403506Z",
     "iopub.status.idle": "2024-06-16T17:58:37.410743Z",
     "shell.execute_reply": "2024-06-16T17:58:37.409514Z",
     "shell.execute_reply.started": "2024-06-16T17:58:37.404386Z"
    }
   },
   "outputs": [
    {
     "name": "stdout",
     "output_type": "stream",
     "text": [
      "The 5 most common genres: \n",
      " [('Drama', 25606), ('Comedy', 16870), ('Thriller', 8654), ('Romance', 7719), ('Action', 7348)]\n"
     ]
    }
   ],
   "source": [
    "print(\"The 5 most common genres: \\n\", genre_frequency.most_common(5))"
   ]
  },
  {
   "cell_type": "markdown",
   "metadata": {},
   "source": [
    "visualize genres popularity with a barplot."
   ]
  },
  {
   "cell_type": "code",
   "execution_count": 30,
   "metadata": {
    "execution": {
     "iopub.execute_input": "2024-06-16T17:58:39.449198Z",
     "iopub.status.busy": "2024-06-16T17:58:39.448772Z",
     "iopub.status.idle": "2024-06-16T17:58:39.852129Z",
     "shell.execute_reply": "2024-06-16T17:58:39.850903Z",
     "shell.execute_reply.started": "2024-06-16T17:58:39.449166Z"
    }
   },
   "outputs": [
    {
     "data": {
      "image/png": "[encoded data removed]",
      "text/plain": [
       "<Figure size 640x480 with 1 Axes>"
      ]
     },
     "metadata": {},
     "output_type": "display_data"
    }
   ],
   "source": [
    "genre_frequency_df = pd.DataFrame([genre_frequency]).T.reset_index()\n",
    "genre_frequency_df.columns = ['genre', 'count']\n",
    "\n",
    "sns.barplot(x='genre', y='count', data=genre_frequency_df.sort_values(by='count', ascending=False))\n",
    "plt.xticks(rotation=90)\n",
    "plt.show()"
   ]
  },
  {
   "cell_type": "markdown",
   "metadata": {},
   "source": [
    "### Data Pre-processing"
   ]
  },
  {
   "cell_type": "code",
   "execution_count": 31,
   "metadata": {
    "execution": {
     "iopub.execute_input": "2024-06-16T17:58:40.285873Z",
     "iopub.status.busy": "2024-06-16T17:58:40.285445Z",
     "iopub.status.idle": "2024-06-16T17:59:00.575893Z",
     "shell.execute_reply": "2024-06-16T17:59:00.574442Z",
     "shell.execute_reply.started": "2024-06-16T17:58:40.285840Z"
    }
   },
   "outputs": [],
   "source": [
    "from scipy.sparse import csr_matrix\n",
    "\n",
    "def create_X(df):\n",
    "    \"\"\"\n",
    "    Generates a sparse matrix from ratings dataframe.\n",
    "    \n",
    "    Args:\n",
    "        df: pandas dataframe containing 3 columns (userId, movieId, rating)\n",
    "    \n",
    "    Returns:\n",
    "        X: sparse matrix\n",
    "        user_mapper: dict that maps user id's to user indices\n",
    "        user_inv_mapper: dict that maps user indices to user id's\n",
    "        movie_mapper: dict that maps movie id's to movie indices\n",
    "        movie_inv_mapper: dict that maps movie indices to movie id's\n",
    "    \"\"\"\n",
    "    M = df['userId'].nunique()\n",
    "    N = df['movieId'].nunique()\n",
    "\n",
    "    user_mapper = dict(zip(np.unique(df[\"userId\"]), list(range(M))))\n",
    "    movie_mapper = dict(zip(np.unique(df[\"movieId\"]), list(range(N))))\n",
    "    \n",
    "    user_inv_mapper = dict(zip(list(range(M)), np.unique(df[\"userId\"])))\n",
    "    movie_inv_mapper = dict(zip(list(range(N)), np.unique(df[\"movieId\"])))\n",
    "    \n",
    "    user_index = [user_mapper[i] for i in df['userId']]\n",
    "    item_index = [movie_mapper[i] for i in df['movieId']]\n",
    "\n",
    "    X = csr_matrix((df[\"rating\"], (user_index,item_index)), shape=(M,N))\n",
    "    \n",
    "    return X, user_mapper, movie_mapper, user_inv_mapper, movie_inv_mapper\n",
    "\n",
    "X, user_mapper, movie_mapper, user_inv_mapper, movie_inv_mapper = create_X(ratings)"
   ]
  },
  {
   "cell_type": "code",
   "execution_count": 32,
   "metadata": {
    "execution": {
     "iopub.execute_input": "2024-06-16T17:59:00.578413Z",
     "iopub.status.busy": "2024-06-16T17:59:00.578038Z",
     "iopub.status.idle": "2024-06-16T17:59:00.586166Z",
     "shell.execute_reply": "2024-06-16T17:59:00.584937Z",
     "shell.execute_reply.started": "2024-06-16T17:59:00.578382Z"
    }
   },
   "outputs": [
    {
     "data": {
      "text/plain": [
       "(162541, 48213)"
      ]
     },
     "execution_count": 32,
     "metadata": {},
     "output_type": "execute_result"
    }
   ],
   "source": [
    "X.shape"
   ]
  },
  {
   "cell_type": "markdown",
   "metadata": {},
   "source": [
    "### Evaluating sparsity"
   ]
  },
  {
   "cell_type": "code",
   "execution_count": 33,
   "metadata": {
    "execution": {
     "iopub.execute_input": "2024-06-16T17:59:04.829050Z",
     "iopub.status.busy": "2024-06-16T17:59:04.827692Z",
     "iopub.status.idle": "2024-06-16T17:59:04.835453Z",
     "shell.execute_reply": "2024-06-16T17:59:04.834233Z",
     "shell.execute_reply.started": "2024-06-16T17:59:04.828997Z"
    }
   },
   "outputs": [
    {
     "name": "stdout",
     "output_type": "stream",
     "text": [
      "Matrix sparsity: 0.13%\n"
     ]
    }
   ],
   "source": [
    "n_total = X.shape[0]*X.shape[1]\n",
    "n_ratings = X.nnz\n",
    "sparsity = n_ratings/n_total\n",
    "print(f\"Matrix sparsity: {round(sparsity*100,2)}%\")"
   ]
  },
  {
   "cell_type": "code",
   "execution_count": 34,
   "metadata": {
    "execution": {
     "iopub.execute_input": "2024-06-16T17:59:05.536558Z",
     "iopub.status.busy": "2024-06-16T17:59:05.534881Z",
     "iopub.status.idle": "2024-06-16T17:59:05.545392Z",
     "shell.execute_reply": "2024-06-16T17:59:05.544085Z",
     "shell.execute_reply.started": "2024-06-16T17:59:05.536508Z"
    }
   },
   "outputs": [
    {
     "data": {
      "text/plain": [
       "162541"
      ]
     },
     "execution_count": 34,
     "metadata": {},
     "output_type": "execute_result"
    }
   ],
   "source": [
    "n_ratings_per_user = X.getnnz(axis=1)\n",
    "len(n_ratings_per_user)"
   ]
  },
  {
   "cell_type": "code",
   "execution_count": 35,
   "metadata": {
    "execution": {
     "iopub.execute_input": "2024-06-16T17:59:06.018205Z",
     "iopub.status.busy": "2024-06-16T17:59:06.017741Z",
     "iopub.status.idle": "2024-06-16T17:59:06.025689Z",
     "shell.execute_reply": "2024-06-16T17:59:06.024400Z",
     "shell.execute_reply.started": "2024-06-16T17:59:06.018169Z"
    }
   },
   "outputs": [
    {
     "name": "stdout",
     "output_type": "stream",
     "text": [
      "Most active user rated 12952 movies.\n",
      "Least active user rated 1 movies.\n"
     ]
    }
   ],
   "source": [
    "print(f\"Most active user rated {n_ratings_per_user.max()} movies.\")\n",
    "print(f\"Least active user rated {n_ratings_per_user.min()} movies.\")"
   ]
  },
  {
   "cell_type": "code",
   "execution_count": 36,
   "metadata": {
    "execution": {
     "iopub.execute_input": "2024-06-16T17:59:06.697730Z",
     "iopub.status.busy": "2024-06-16T17:59:06.697283Z",
     "iopub.status.idle": "2024-06-16T17:59:06.774766Z",
     "shell.execute_reply": "2024-06-16T17:59:06.773566Z",
     "shell.execute_reply.started": "2024-06-16T17:59:06.697699Z"
    }
   },
   "outputs": [
    {
     "data": {
      "text/plain": [
       "48213"
      ]
     },
     "execution_count": 36,
     "metadata": {},
     "output_type": "execute_result"
    }
   ],
   "source": [
    "n_ratings_per_movie = X.getnnz(axis=0)\n",
    "len(n_ratings_per_movie)"
   ]
  },
  {
   "cell_type": "code",
   "execution_count": 37,
   "metadata": {
    "execution": {
     "iopub.execute_input": "2024-06-16T17:59:07.212447Z",
     "iopub.status.busy": "2024-06-16T17:59:07.211998Z",
     "iopub.status.idle": "2024-06-16T17:59:07.219241Z",
     "shell.execute_reply": "2024-06-16T17:59:07.217923Z",
     "shell.execute_reply.started": "2024-06-16T17:59:07.212413Z"
    }
   },
   "outputs": [
    {
     "name": "stdout",
     "output_type": "stream",
     "text": [
      "Most rated movie has 32831 ratings.\n",
      "Least rated movie has 1 ratings.\n"
     ]
    }
   ],
   "source": [
    "print(f\"Most rated movie has {n_ratings_per_movie.max()} ratings.\")\n",
    "print(f\"Least rated movie has {n_ratings_per_movie.min()} ratings.\")"
   ]
  },
  {
   "cell_type": "code",
   "execution_count": 38,
   "metadata": {
    "execution": {
     "iopub.execute_input": "2024-06-16T17:59:08.305983Z",
     "iopub.status.busy": "2024-06-16T17:59:08.305559Z",
     "iopub.status.idle": "2024-06-16T17:59:09.978700Z",
     "shell.execute_reply": "2024-06-16T17:59:09.977164Z",
     "shell.execute_reply.started": "2024-06-16T17:59:08.305945Z"
    }
   },
   "outputs": [
    {
     "name": "stderr",
     "output_type": "stream",
     "text": [
      "C:\\Users\\Geoffrey\\AppData\\Local\\Temp\\ipykernel_14604\\3364525973.py:3: FutureWarning: \n",
      "\n",
      "`shade` is now deprecated in favor of `fill`; setting `fill=True`.\n",
      "This will become an error in seaborn v0.14.0; please update your code.\n",
      "\n",
      "  sns.kdeplot(n_ratings_per_user, shade=True)\n",
      "C:\\Users\\Geoffrey\\AppData\\Local\\Temp\\ipykernel_14604\\3364525973.py:9: FutureWarning: \n",
      "\n",
      "`shade` is now deprecated in favor of `fill`; setting `fill=True`.\n",
      "This will become an error in seaborn v0.14.0; please update your code.\n",
      "\n",
      "  sns.kdeplot(n_ratings_per_movie, shade=True)\n"
     ]
    },
    {
     "data": {
      "image/png": "[encoded data removed]",
      "text/plain": [
       "<Figure size 1600x400 with 2 Axes>"
      ]
     },
     "metadata": {},
     "output_type": "display_data"
    }
   ],
   "source": [
    "plt.figure(figsize=(16,4))\n",
    "plt.subplot(1,2,1)\n",
    "sns.kdeplot(n_ratings_per_user, shade=True)\n",
    "plt.xlim(0)\n",
    "plt.title(\"Number of Ratings Per User\", fontsize=14)\n",
    "plt.xlabel(\"number of ratings per user\")\n",
    "plt.ylabel(\"density\")\n",
    "plt.subplot(1,2,2)\n",
    "sns.kdeplot(n_ratings_per_movie, shade=True)\n",
    "plt.xlim(0)\n",
    "plt.title(\"Number of Ratings Per Movie\", fontsize=14)\n",
    "plt.xlabel(\"number of ratings per movie\")\n",
    "plt.ylabel(\"density\")\n",
    "plt.show()"
   ]
  },
  {
   "cell_type": "markdown",
   "metadata": {},
   "source": [
    "### Step 5: Item-item Recommendations with k-Nearest Neighbors"
   ]
  },
  {
   "cell_type": "markdown",
   "metadata": {},
   "source": [
    "We are going to find the $k$ movies that have the most similar user engagement vectors for movie $i$."
   ]
  },
  {
   "cell_type": "code",
   "execution_count": 39,
   "metadata": {
    "execution": {
     "iopub.execute_input": "2024-06-16T17:59:14.401840Z",
     "iopub.status.busy": "2024-06-16T17:59:14.401378Z",
     "iopub.status.idle": "2024-06-16T17:59:14.867624Z",
     "shell.execute_reply": "2024-06-16T17:59:14.866143Z",
     "shell.execute_reply.started": "2024-06-16T17:59:14.401807Z"
    }
   },
   "outputs": [],
   "source": [
    "from sklearn.neighbors import NearestNeighbors\n",
    "\n",
    "def find_similar_movies(movie_id, X, movie_mapper, movie_inv_mapper, k, metric='cosine'):\n",
    "    \"\"\"\n",
    "    Finds k-nearest neighbours for a given movie id.\n",
    "    \n",
    "    Args:\n",
    "        movie_id: id of the movie of interest\n",
    "        X: user-item utility matrix\n",
    "        k: number of similar movies to retrieve\n",
    "        metric: distance metric for kNN calculations\n",
    "    \n",
    "    Output: returns list of k similar movie ID's\n",
    "    \"\"\"\n",
    "    X = X.T\n",
    "    neighbour_ids = []\n",
    "    \n",
    "    movie_ind = movie_mapper[movie_id]\n",
    "    movie_vec = X[movie_ind]\n",
    "    if isinstance(movie_vec, (np.ndarray)):\n",
    "        movie_vec = movie_vec.reshape(1,-1)\n",
    "    # use k+1 since kNN output includes the movieId of interest\n",
    "    kNN = NearestNeighbors(n_neighbors=k+1, algorithm=\"brute\", metric=metric)\n",
    "    kNN.fit(X)\n",
    "    neighbour = kNN.kneighbors(movie_vec, return_distance=False)\n",
    "    for i in range(0,k):\n",
    "        n = neighbour.item(i)\n",
    "        neighbour_ids.append(movie_inv_mapper[n])\n",
    "    neighbour_ids.pop(0)\n",
    "    return neighbour_ids"
   ]
  },
  {
   "cell_type": "code",
   "execution_count": 40,
   "metadata": {
    "execution": {
     "iopub.execute_input": "2024-06-16T17:59:15.196364Z",
     "iopub.status.busy": "2024-06-16T17:59:15.195202Z",
     "iopub.status.idle": "2024-06-16T17:59:16.014281Z",
     "shell.execute_reply": "2024-06-16T17:59:16.013067Z",
     "shell.execute_reply.started": "2024-06-16T17:59:15.196320Z"
    }
   },
   "outputs": [
    {
     "data": {
      "text/plain": [
       "[260, 3114, 1270, 356, 588, 480, 1210, 780, 364]"
      ]
     },
     "execution_count": 40,
     "metadata": {},
     "output_type": "execute_result"
    }
   ],
   "source": [
    "similar_movies = find_similar_movies(1, X, movie_mapper, movie_inv_mapper, k=10)\n",
    "similar_movies"
   ]
  },
  {
   "cell_type": "code",
   "execution_count": 41,
   "metadata": {
    "execution": {
     "iopub.execute_input": "2024-06-16T17:59:16.016580Z",
     "iopub.status.busy": "2024-06-16T17:59:16.016196Z",
     "iopub.status.idle": "2024-06-16T17:59:16.857406Z",
     "shell.execute_reply": "2024-06-16T17:59:16.856213Z",
     "shell.execute_reply.started": "2024-06-16T17:59:16.016549Z"
    }
   },
   "outputs": [
    {
     "name": "stdout",
     "output_type": "stream",
     "text": [
      "Because you watched Toy Story (1995):\n",
      "Star Wars: Episode IV - A New Hope (1977)\n",
      "Toy Story 2 (1999)\n",
      "Back to the Future (1985)\n",
      "Forrest Gump (1994)\n",
      "Aladdin (1992)\n",
      "Jurassic Park (1993)\n",
      "Star Wars: Episode VI - Return of the Jedi (1983)\n",
      "Independence Day (a.k.a. ID4) (1996)\n",
      "Lion King, The (1994)\n"
     ]
    }
   ],
   "source": [
    "movie_titles = dict(zip(movies['movieId'], movies['title']))\n",
    "\n",
    "movie_id = 1\n",
    "\n",
    "similar_movies = find_similar_movies(movie_id, X, movie_mapper, movie_inv_mapper, metric='cosine', k=10)\n",
    "movie_title = movie_titles[movie_id]\n",
    "\n",
    "print(f\"Because you watched {movie_title}:\")\n",
    "for i in similar_movies:\n",
    "    print(movie_titles[i])"
   ]
  },
  {
   "cell_type": "code",
   "execution_count": 42,
   "metadata": {
    "execution": {
     "iopub.execute_input": "2024-06-16T17:59:17.283962Z",
     "iopub.status.busy": "2024-06-16T17:59:17.283508Z",
     "iopub.status.idle": "2024-06-16T18:01:58.676128Z",
     "shell.execute_reply": "2024-06-16T18:01:58.674212Z",
     "shell.execute_reply.started": "2024-06-16T17:59:17.283927Z"
    }
   },
   "outputs": [
    {
     "name": "stdout",
     "output_type": "stream",
     "text": [
      "Because you watched Toy Story (1995):\n",
      "Gigli (2003)\n",
      "Kicking & Screaming (2005)\n",
      "Son of the Mask (2005)\n",
      "Turbo: A Power Rangers Movie (1997)\n",
      "Piglet's Big Movie (2003)\n",
      "Planes (2013)\n",
      "Arthur 2: On the Rocks (1988)\n",
      "Amityville 3-D (1983)\n",
      "Splitting Heirs (1993)\n"
     ]
    }
   ],
   "source": [
    "movie_id = 1\n",
    "\n",
    "similar_movies = find_similar_movies(movie_id, X, movie_mapper, movie_inv_mapper, metric='euclidean', k=10)\n",
    "movie_title = movie_titles[movie_id]\n",
    "\n",
    "print(f\"Because you watched {movie_title}:\")\n",
    "for i in similar_movies:\n",
    "    print(movie_titles[i])"
   ]
  },
  {
   "cell_type": "markdown",
   "metadata": {},
   "source": [
    "### Step 6: Handling the cold-start problem"
   ]
  },
  {
   "cell_type": "code",
   "execution_count": 43,
   "metadata": {
    "execution": {
     "iopub.status.busy": "2024-06-16T18:01:58.677038Z",
     "iopub.status.idle": "2024-06-16T18:01:58.677454Z",
     "shell.execute_reply": "2024-06-16T18:01:58.677269Z",
     "shell.execute_reply.started": "2024-06-16T18:01:58.677253Z"
    }
   },
   "outputs": [
    {
     "name": "stdout",
     "output_type": "stream",
     "text": [
      "There are 62423 unique movies in our movies dataset.\n"
     ]
    }
   ],
   "source": [
    "n_movies = movies['movieId'].nunique()\n",
    "print(f\"There are {n_movies} unique movies in our movies dataset.\")"
   ]
  },
  {
   "cell_type": "code",
   "execution_count": 44,
   "metadata": {
    "execution": {
     "iopub.execute_input": "2024-06-16T17:54:48.612703Z",
     "iopub.status.busy": "2024-06-16T17:54:48.612352Z",
     "iopub.status.idle": "2024-06-16T17:54:49.743793Z",
     "shell.execute_reply": "2024-06-16T17:54:49.742526Z",
     "shell.execute_reply.started": "2024-06-16T17:54:48.612672Z"
    }
   },
   "outputs": [],
   "source": [
    "genres = set(g for G in movies['genres'] for g in G)\n",
    "\n",
    "for g in genres:\n",
    "    movies[g] = movies.genres.transform(lambda x: int(g in x))\n",
    "    \n",
    "movie_genres = movies.drop(columns=['movieId', 'title','genres'])"
   ]
  },
  {
   "cell_type": "code",
   "execution_count": 45,
   "metadata": {
    "execution": {
     "iopub.execute_input": "2024-06-16T17:54:49.746538Z",
     "iopub.status.busy": "2024-06-16T17:54:49.745530Z",
     "iopub.status.idle": "2024-06-16T17:54:49.767283Z",
     "shell.execute_reply": "2024-06-16T17:54:49.765896Z",
     "shell.execute_reply.started": "2024-06-16T17:54:49.746492Z"
    }
   },
   "outputs": [
    {
     "data": {
      "text/html": [
       "<div>\n",
       "<style scoped>\n",
       "    .dataframe tbody tr th:only-of-type {\n",
       "        vertical-align: middle;\n",
       "    }\n",
       "\n",
       "    .dataframe tbody tr th {\n",
       "        vertical-align: top;\n",
       "    }\n",
       "\n",
       "    .dataframe thead th {\n",
       "        text-align: right;\n",
       "    }\n",
       "</style>\n",
       "<table border=\"1\" class=\"dataframe\">\n",
       "  <thead>\n",
       "    <tr style=\"text-align: right;\">\n",
       "      <th></th>\n",
       "      <th>(no genres listed)</th>\n",
       "      <th>Thriller</th>\n",
       "      <th>Comedy</th>\n",
       "      <th>Fantasy</th>\n",
       "      <th>Children</th>\n",
       "      <th>Musical</th>\n",
       "      <th>Animation</th>\n",
       "      <th>War</th>\n",
       "      <th>Western</th>\n",
       "      <th>Film-Noir</th>\n",
       "      <th>Horror</th>\n",
       "      <th>Romance</th>\n",
       "      <th>Action</th>\n",
       "      <th>Adventure</th>\n",
       "      <th>Sci-Fi</th>\n",
       "      <th>Documentary</th>\n",
       "      <th>Crime</th>\n",
       "      <th>IMAX</th>\n",
       "      <th>Drama</th>\n",
       "      <th>Mystery</th>\n",
       "    </tr>\n",
       "  </thead>\n",
       "  <tbody>\n",
       "    <tr>\n",
       "      <th>0</th>\n",
       "      <td>0</td>\n",
       "      <td>0</td>\n",
       "      <td>1</td>\n",
       "      <td>1</td>\n",
       "      <td>1</td>\n",
       "      <td>0</td>\n",
       "      <td>1</td>\n",
       "      <td>0</td>\n",
       "      <td>0</td>\n",
       "      <td>0</td>\n",
       "      <td>0</td>\n",
       "      <td>0</td>\n",
       "      <td>0</td>\n",
       "      <td>1</td>\n",
       "      <td>0</td>\n",
       "      <td>0</td>\n",
       "      <td>0</td>\n",
       "      <td>0</td>\n",
       "      <td>0</td>\n",
       "      <td>0</td>\n",
       "    </tr>\n",
       "    <tr>\n",
       "      <th>1</th>\n",
       "      <td>0</td>\n",
       "      <td>0</td>\n",
       "      <td>0</td>\n",
       "      <td>1</td>\n",
       "      <td>1</td>\n",
       "      <td>0</td>\n",
       "      <td>0</td>\n",
       "      <td>0</td>\n",
       "      <td>0</td>\n",
       "      <td>0</td>\n",
       "      <td>0</td>\n",
       "      <td>0</td>\n",
       "      <td>0</td>\n",
       "      <td>1</td>\n",
       "      <td>0</td>\n",
       "      <td>0</td>\n",
       "      <td>0</td>\n",
       "      <td>0</td>\n",
       "      <td>0</td>\n",
       "      <td>0</td>\n",
       "    </tr>\n",
       "    <tr>\n",
       "      <th>2</th>\n",
       "      <td>0</td>\n",
       "      <td>0</td>\n",
       "      <td>1</td>\n",
       "      <td>0</td>\n",
       "      <td>0</td>\n",
       "      <td>0</td>\n",
       "      <td>0</td>\n",
       "      <td>0</td>\n",
       "      <td>0</td>\n",
       "      <td>0</td>\n",
       "      <td>0</td>\n",
       "      <td>1</td>\n",
       "      <td>0</td>\n",
       "      <td>0</td>\n",
       "      <td>0</td>\n",
       "      <td>0</td>\n",
       "      <td>0</td>\n",
       "      <td>0</td>\n",
       "      <td>0</td>\n",
       "      <td>0</td>\n",
       "    </tr>\n",
       "    <tr>\n",
       "      <th>3</th>\n",
       "      <td>0</td>\n",
       "      <td>0</td>\n",
       "      <td>1</td>\n",
       "      <td>0</td>\n",
       "      <td>0</td>\n",
       "      <td>0</td>\n",
       "      <td>0</td>\n",
       "      <td>0</td>\n",
       "      <td>0</td>\n",
       "      <td>0</td>\n",
       "      <td>0</td>\n",
       "      <td>1</td>\n",
       "      <td>0</td>\n",
       "      <td>0</td>\n",
       "      <td>0</td>\n",
       "      <td>0</td>\n",
       "      <td>0</td>\n",
       "      <td>0</td>\n",
       "      <td>1</td>\n",
       "      <td>0</td>\n",
       "    </tr>\n",
       "    <tr>\n",
       "      <th>4</th>\n",
       "      <td>0</td>\n",
       "      <td>0</td>\n",
       "      <td>1</td>\n",
       "      <td>0</td>\n",
       "      <td>0</td>\n",
       "      <td>0</td>\n",
       "      <td>0</td>\n",
       "      <td>0</td>\n",
       "      <td>0</td>\n",
       "      <td>0</td>\n",
       "      <td>0</td>\n",
       "      <td>0</td>\n",
       "      <td>0</td>\n",
       "      <td>0</td>\n",
       "      <td>0</td>\n",
       "      <td>0</td>\n",
       "      <td>0</td>\n",
       "      <td>0</td>\n",
       "      <td>0</td>\n",
       "      <td>0</td>\n",
       "    </tr>\n",
       "  </tbody>\n",
       "</table>\n",
       "</div>"
      ],
      "text/plain": [
       "   (no genres listed)  Thriller  Comedy  Fantasy  Children  Musical  \\\n",
       "0                   0         0       1        1         1        0   \n",
       "1                   0         0       0        1         1        0   \n",
       "2                   0         0       1        0         0        0   \n",
       "3                   0         0       1        0         0        0   \n",
       "4                   0         0       1        0         0        0   \n",
       "\n",
       "   Animation  War  Western  Film-Noir  Horror  Romance  Action  Adventure  \\\n",
       "0          1    0        0          0       0        0       0          1   \n",
       "1          0    0        0          0       0        0       0          1   \n",
       "2          0    0        0          0       0        1       0          0   \n",
       "3          0    0        0          0       0        1       0          0   \n",
       "4          0    0        0          0       0        0       0          0   \n",
       "\n",
       "   Sci-Fi  Documentary  Crime  IMAX  Drama  Mystery  \n",
       "0       0            0      0     0      0        0  \n",
       "1       0            0      0     0      0        0  \n",
       "2       0            0      0     0      0        0  \n",
       "3       0            0      0     0      1        0  \n",
       "4       0            0      0     0      0        0  "
      ]
     },
     "execution_count": 45,
     "metadata": {},
     "output_type": "execute_result"
    }
   ],
   "source": [
    "movie_genres.head()"
   ]
  },
  {
   "cell_type": "code",
   "execution_count": 46,
   "metadata": {
    "execution": {
     "iopub.execute_input": "2024-06-16T17:54:49.774872Z",
     "iopub.status.busy": "2024-06-16T17:54:49.773801Z"
    }
   },
   "outputs": [
    {
     "name": "stdout",
     "output_type": "stream",
     "text": [
      "Dimensions of our genres cosine similarity matrix: (62423, 62423)\n"
     ]
    }
   ],
   "source": [
    "from sklearn.metrics.pairwise import cosine_similarity\n",
    "\n",
    "cosine_sim = cosine_similarity(movie_genres, movie_genres)\n",
    "print(f\"Dimensions of our genres cosine similarity matrix: {cosine_sim.shape}\")"
   ]
  },
  {
   "cell_type": "markdown",
   "metadata": {},
   "source": [
    "As expected, after passing the `movie_genres` dataframe into the cosine_similarity() function, we get a cosine similarity matrix of shape $(n_{\\text{movies}}, n_{\\text{movies}})$.\n",
    "\n",
    "This matrix is populated with values between 0 and 1 which represent the degree of similarity between movies along the x and y axes."
   ]
  },
  {
   "cell_type": "markdown",
   "metadata": {},
   "source": [
    "### Creating a movie finder function"
   ]
  },
  {
   "cell_type": "code",
   "execution_count": 50,
   "metadata": {},
   "outputs": [
    {
     "name": "stdout",
     "output_type": "stream",
     "text": [
      "Collecting fuzzywuzzy\n",
      "  Obtaining dependency information for fuzzywuzzy from https://files.pythonhosted.org/packages/43/ff/74f23998ad2f93b945c0309f825be92e04e0348e062026998b5eefef4c33/fuzzywuzzy-0.18.0-py2.py3-none-any.whl.metadata\n",
      "  Downloading fuzzywuzzy-0.18.0-py2.py3-none-any.whl.metadata (4.9 kB)\n",
      "Downloading fuzzywuzzy-0.18.0-py2.py3-none-any.whl (18 kB)\n",
      "Installing collected packages: fuzzywuzzy\n",
      "Successfully installed fuzzywuzzy-0.18.0\n"
     ]
    }
   ],
   "source": [
    "!pip install fuzzywuzzy"
   ]
  },
  {
   "cell_type": "code",
   "execution_count": 51,
   "metadata": {},
   "outputs": [
    {
     "name": "stderr",
     "output_type": "stream",
     "text": [
      "C:\\Users\\Geoffrey\\AppData\\Local\\anaconda3\\Lib\\site-packages\\fuzzywuzzy\\fuzz.py:11: UserWarning: Using slow pure-python SequenceMatcher. Install python-Levenshtein to remove this warning\n",
      "  warnings.warn('Using slow pure-python SequenceMatcher. Install python-Levenshtein to remove this warning')\n"
     ]
    }
   ],
   "source": [
    "from fuzzywuzzy import process\n",
    "\n",
    "def movie_finder(title):\n",
    "    all_titles = movies['title'].tolist()\n",
    "    closest_match = process.extractOne(title,all_titles)\n",
    "    return closest_match[0]"
   ]
  },
  {
   "cell_type": "markdown",
   "metadata": {},
   "source": [
    "Let's test this out with our Jumanji example. "
   ]
  },
  {
   "cell_type": "code",
   "execution_count": 52,
   "metadata": {},
   "outputs": [
    {
     "data": {
      "text/plain": [
       "'Jumanji (1995)'"
      ]
     },
     "execution_count": 52,
     "metadata": {},
     "output_type": "execute_result"
    }
   ],
   "source": [
    "title = movie_finder('juminji')\n",
    "title"
   ]
  },
  {
   "cell_type": "code",
   "execution_count": 53,
   "metadata": {},
   "outputs": [
    {
     "name": "stdout",
     "output_type": "stream",
     "text": [
      "Movie index for Jumanji: 1\n"
     ]
    }
   ],
   "source": [
    "movie_idx = dict(zip(movies['title'], list(movies.index)))\n",
    "idx = movie_idx[title]\n",
    "print(f\"Movie index for Jumanji: {idx}\")"
   ]
  },
  {
   "cell_type": "markdown",
   "metadata": {},
   "source": [
    "Using this handy `movie_idx` dictionary, we know that Jumanji is represented by index 1 in our matrix. Let's get the top 10 most similar movies to Jumanji."
   ]
  },
  {
   "cell_type": "code",
   "execution_count": 54,
   "metadata": {},
   "outputs": [],
   "source": [
    "n_recommendations=10\n",
    "sim_scores = list(enumerate(cosine_sim[idx]))\n",
    "sim_scores = sorted(sim_scores, key=lambda x: x[1], reverse=True)\n",
    "sim_scores = sim_scores[1:(n_recommendations+1)]\n",
    "similar_movies = [i[0] for i in sim_scores]"
   ]
  },
  {
   "cell_type": "markdown",
   "metadata": {},
   "source": [
    "`similar_movies` is an array of indices that represents Jumanji's top 10 recommendations. We can get the corresponding movie titles by either creating an inverse movie_idx mapper or using iloc on the title column of the movies dataframe."
   ]
  },
  {
   "cell_type": "code",
   "execution_count": 55,
   "metadata": {},
   "outputs": [
    {
     "name": "stdout",
     "output_type": "stream",
     "text": [
      "Because you watched Jumanji (1995):\n"
     ]
    },
    {
     "data": {
      "text/plain": [
       "59                     Indian in the Cupboard, The (1995)\n",
       "124                     NeverEnding Story III, The (1994)\n",
       "986                       Escape to Witch Mountain (1975)\n",
       "1954            Darby O'Gill and the Little People (1959)\n",
       "2003                                  Return to Oz (1985)\n",
       "2071                        NeverEnding Story, The (1984)\n",
       "2072    NeverEnding Story II: The Next Chapter, The (1...\n",
       "2308                        Santa Claus: The Movie (1985)\n",
       "4790    Harry Potter and the Sorcerer's Stone (a.k.a. ...\n",
       "9557                            Magic in the Water (1995)\n",
       "Name: title, dtype: object"
      ]
     },
     "execution_count": 55,
     "metadata": {},
     "output_type": "execute_result"
    }
   ],
   "source": [
    "print(f\"Because you watched {title}:\")\n",
    "movies['title'].iloc[similar_movies]"
   ]
  },
  {
   "cell_type": "markdown",
   "metadata": {},
   "source": [
    "Cool! These recommendations seem pretty relevant and similar to Jumanji. The first 5 movies are family-friendly films from the 90s."
   ]
  },
  {
   "cell_type": "markdown",
   "metadata": {},
   "source": [
    "We can test our recommender further with other movie titles. For your convenience, let's package the steps into a single function which takes in the movie title of interest and number of recommendations."
   ]
  },
  {
   "cell_type": "code",
   "execution_count": 56,
   "metadata": {},
   "outputs": [],
   "source": [
    "def get_content_based_recommendations(title_string, n_recommendations=10):\n",
    "    title = movie_finder(title_string)\n",
    "    idx = movie_idx[title]\n",
    "    sim_scores = list(enumerate(cosine_sim[idx]))\n",
    "    sim_scores = sorted(sim_scores, key=lambda x: x[1], reverse=True)\n",
    "    sim_scores = sim_scores[1:(n_recommendations+1)]\n",
    "    similar_movies = [i[0] for i in sim_scores]\n",
    "    print(f\"Because you watched {title}:\")\n",
    "    print(movies['title'].iloc[similar_movies])"
   ]
  },
  {
   "cell_type": "code",
   "execution_count": 57,
   "metadata": {},
   "outputs": [
    {
     "name": "stdout",
     "output_type": "stream",
     "text": [
      "Because you watched Toy Story (1995):\n",
      "2203                                       Antz (1998)\n",
      "3021                                Toy Story 2 (1999)\n",
      "3653    Adventures of Rocky and Bullwinkle, The (2000)\n",
      "3912                  Emperor's New Groove, The (2000)\n",
      "4780                             Monsters, Inc. (2001)\n",
      "Name: title, dtype: object\n"
     ]
    }
   ],
   "source": [
    "get_content_based_recommendations('toy story', 5)"
   ]
  },
  {
   "cell_type": "markdown",
   "metadata": {},
   "source": [
    "### Step 7: Dimensionality Reduction with Matrix Factorization (advanced)"
   ]
  },
  {
   "cell_type": "code",
   "execution_count": 58,
   "metadata": {},
   "outputs": [
    {
     "data": {
      "text/plain": [
       "(48213, 20)"
      ]
     },
     "execution_count": 58,
     "metadata": {},
     "output_type": "execute_result"
    }
   ],
   "source": [
    "from sklearn.decomposition import TruncatedSVD\n",
    "\n",
    "svd = TruncatedSVD(n_components=20, n_iter=10)\n",
    "Q = svd.fit_transform(X.T)\n",
    "Q.shape"
   ]
  },
  {
   "cell_type": "code",
   "execution_count": 59,
   "metadata": {},
   "outputs": [
    {
     "name": "stdout",
     "output_type": "stream",
     "text": [
      "Because you watched Toy Story (1995):\n",
      "Willy Wonka & the Chocolate Factory (1971)\n",
      "Independence Day (a.k.a. ID4) (1996)\n",
      "Mission: Impossible (1996)\n",
      "Hunchback of Notre Dame, The (1996)\n",
      "James and the Giant Peach (1996)\n",
      "Twister (1996)\n",
      "Toy Story 2 (1999)\n",
      "Nutty Professor, The (1996)\n",
      "Men in Black (a.k.a. MIB) (1997)\n"
     ]
    }
   ],
   "source": [
    "movie_id = 1\n",
    "similar_movies = find_similar_movies(movie_id, Q.T, movie_mapper, movie_inv_mapper, metric='cosine', k=10)\n",
    "movie_title = movie_titles[movie_id]\n",
    "\n",
    "print(f\"Because you watched {movie_title}:\")\n",
    "for i in similar_movies:\n",
    "    print(movie_titles[i])"
   ]
  },
  {
   "cell_type": "code",
   "execution_count": 73,
   "metadata": {},
   "outputs": [
    {
     "name": "stdout",
     "output_type": "stream",
     "text": [
      "Submission file created successfully!\n"
     ]
    }
   ],
   "source": [
    "# Evaluation and Submission Preparation\n",
    "\n",
    "from sklearn.metrics import mean_squared_error\n",
    "from math import sqrt\n",
    "\n",
    "def rmse(y_true, y_pred):\n",
    "    return sqrt(mean_squared_error(y_true, y_pred))\n",
    "\n",
    "# Predict ratings for the test set\n",
    "def predict_ratings(user_id, movie_id, X, user_mapper, movie_mapper):\n",
    "    if user_id in user_mapper and movie_id in movie_mapper:\n",
    "        user_index = user_mapper[user_id]\n",
    "        movie_index = movie_mapper[movie_id]\n",
    "        return X[user_index, movie_index]\n",
    "    else:\n",
    "        return np.nan\n",
    "\n",
    "# Generate predictions\n",
    "test['predicted_rating'] = test.apply(lambda row: predict_ratings(row['userId'], row['movieId'], X, user_mapper, movie_mapper), axis=1)\n",
    "\n",
    "# Handle cold-start problem by filling NaNs with global average rating\n",
    "global_avg_rating = ratings['rating'].mean()\n",
    "test['predicted_rating'].fillna(global_avg_rating, inplace=True)\n",
    "\n",
    "# Ensure the predictions are within the valid range\n",
    "test['predicted_rating'] = test['predicted_rating'].clip(1.0, 5.0)\n",
    "\n",
    "# Prepare submission file\n",
    "test['Id'] = test['userId'].astype(str) + '_' + test['movieId'].astype(str)\n",
    "submission = test[['Id', 'predicted_rating']].rename(columns={'predicted_rating': 'rating'})\n",
    "submission.to_csv('submissionone.csv', index=False)\n",
    "\n",
    "print(\"Submission file created successfully!\")"
   ]
  },
  {
   "cell_type": "code",
   "execution_count": 63,
   "metadata": {},
   "outputs": [
    {
     "data": {
      "text/html": [
       "<div>\n",
       "<style scoped>\n",
       "    .dataframe tbody tr th:only-of-type {\n",
       "        vertical-align: middle;\n",
       "    }\n",
       "\n",
       "    .dataframe tbody tr th {\n",
       "        vertical-align: top;\n",
       "    }\n",
       "\n",
       "    .dataframe thead th {\n",
       "        text-align: right;\n",
       "    }\n",
       "</style>\n",
       "<table border=\"1\" class=\"dataframe\">\n",
       "  <thead>\n",
       "    <tr style=\"text-align: right;\">\n",
       "      <th></th>\n",
       "      <th>Id</th>\n",
       "      <th>rating</th>\n",
       "    </tr>\n",
       "  </thead>\n",
       "  <tbody>\n",
       "    <tr>\n",
       "      <th>0</th>\n",
       "      <td>1_2011</td>\n",
       "      <td>1.0</td>\n",
       "    </tr>\n",
       "    <tr>\n",
       "      <th>1</th>\n",
       "      <td>1_4144</td>\n",
       "      <td>1.0</td>\n",
       "    </tr>\n",
       "    <tr>\n",
       "      <th>2</th>\n",
       "      <td>1_5767</td>\n",
       "      <td>1.0</td>\n",
       "    </tr>\n",
       "    <tr>\n",
       "      <th>3</th>\n",
       "      <td>1_6711</td>\n",
       "      <td>1.0</td>\n",
       "    </tr>\n",
       "    <tr>\n",
       "      <th>4</th>\n",
       "      <td>1_7318</td>\n",
       "      <td>1.0</td>\n",
       "    </tr>\n",
       "    <tr>\n",
       "      <th>...</th>\n",
       "      <td>...</td>\n",
       "      <td>...</td>\n",
       "    </tr>\n",
       "    <tr>\n",
       "      <th>5000014</th>\n",
       "      <td>162541_4079</td>\n",
       "      <td>1.0</td>\n",
       "    </tr>\n",
       "    <tr>\n",
       "      <th>5000015</th>\n",
       "      <td>162541_4467</td>\n",
       "      <td>1.0</td>\n",
       "    </tr>\n",
       "    <tr>\n",
       "      <th>5000016</th>\n",
       "      <td>162541_4980</td>\n",
       "      <td>1.0</td>\n",
       "    </tr>\n",
       "    <tr>\n",
       "      <th>5000017</th>\n",
       "      <td>162541_5689</td>\n",
       "      <td>1.0</td>\n",
       "    </tr>\n",
       "    <tr>\n",
       "      <th>5000018</th>\n",
       "      <td>162541_7153</td>\n",
       "      <td>1.0</td>\n",
       "    </tr>\n",
       "  </tbody>\n",
       "</table>\n",
       "<p>5000019 rows × 2 columns</p>\n",
       "</div>"
      ],
      "text/plain": [
       "                  Id  rating\n",
       "0             1_2011     1.0\n",
       "1             1_4144     1.0\n",
       "2             1_5767     1.0\n",
       "3             1_6711     1.0\n",
       "4             1_7318     1.0\n",
       "...              ...     ...\n",
       "5000014  162541_4079     1.0\n",
       "5000015  162541_4467     1.0\n",
       "5000016  162541_4980     1.0\n",
       "5000017  162541_5689     1.0\n",
       "5000018  162541_7153     1.0\n",
       "\n",
       "[5000019 rows x 2 columns]"
      ]
     },
     "execution_count": 63,
     "metadata": {},
     "output_type": "execute_result"
    }
   ],
   "source": [
    "pd.read_csv('submission1.csv')"
   ]
  },
  {
   "cell_type": "code",
   "execution_count": 74,
   "metadata": {},
   "outputs": [
    {
     "ename": "NameError",
     "evalue": "name 'model' is not defined",
     "output_type": "error",
     "traceback": [
      "\u001b[1;31m---------------------------------------------------------------------------\u001b[0m",
      "\u001b[1;31mNameError\u001b[0m                                 Traceback (most recent call last)",
      "Cell \u001b[1;32mIn[74], line 2\u001b[0m\n\u001b[0;32m      1\u001b[0m \u001b[38;5;66;03m# Predict ratings\u001b[39;00m\n\u001b[1;32m----> 2\u001b[0m test[\u001b[38;5;124m'\u001b[39m\u001b[38;5;124mpredicted_rating\u001b[39m\u001b[38;5;124m'\u001b[39m] \u001b[38;5;241m=\u001b[39m model\u001b[38;5;241m.\u001b[39mpredict(test)\n\u001b[0;32m      4\u001b[0m \u001b[38;5;66;03m# Ensure predictions are within valid range\u001b[39;00m\n\u001b[0;32m      5\u001b[0m test[\u001b[38;5;124m'\u001b[39m\u001b[38;5;124mpredicted_rating\u001b[39m\u001b[38;5;124m'\u001b[39m] \u001b[38;5;241m=\u001b[39m test[\u001b[38;5;124m'\u001b[39m\u001b[38;5;124mpredicted_rating\u001b[39m\u001b[38;5;124m'\u001b[39m]\u001b[38;5;241m.\u001b[39mclip(\u001b[38;5;241m1.0\u001b[39m, \u001b[38;5;241m5.0\u001b[39m)\n",
      "\u001b[1;31mNameError\u001b[0m: name 'model' is not defined"
     ]
    }
   ],
   "source": [
    "# Predict ratings\n",
    "test['predicted_rating'] = model.predict(test)\n",
    "\n",
    "# Ensure predictions are within valid range\n",
    "test['predicted_rating'] = test['predicted_rating'].clip(1.0, 5.0)\n",
    "\n",
    "# Calculate and print RMSE\n",
    "if 'rating' in test.columns:\n",
    "    actual_ratings = test['rating']\n",
    "    predicted_ratings = test['predicted_rating']\n",
    "    print_rmse(actual_ratings, predicted_ratings)\n"
   ]
  },
  {
   "cell_type": "code",
   "execution_count": null,
   "metadata": {},
   "outputs": [],
   "source": []
  }
 ],
 "metadata": {
  "kaggle": {
   "accelerator": "none",
   "dataSources": [
    {
     "databundleVersionId": 8778365,
     "sourceId": 81285,
     "sourceType": "competition"
    }
   ],
   "dockerImageVersionId": 30732,
   "isGpuEnabled": false,
   "isInternetEnabled": false,
   "language": "python",
   "sourceType": "notebook"
  },
  "kernelspec": {
   "display_name": "Python 3 (ipykernel)",
   "language": "python",
   "name": "python3"
  },
  "language_info": {
   "codemirror_mode": {
    "name": "ipython",
    "version": 3
   },
   "file_extension": ".py",
   "mimetype": "text/x-python",
   "name": "python",
   "nbconvert_exporter": "python",
   "pygments_lexer": "ipython3",
   "version": "3.11.5"
  }
 },
 "nbformat": 4,
 "nbformat_minor": 4
}
